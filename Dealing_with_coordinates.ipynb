{
  "nbformat": 4,
  "nbformat_minor": 0,
  "metadata": {
    "colab": {
      "provenance": [],
      "mount_file_id": "1tFVw_CshNJ4DIdbzTxVZ8qsvKMGSmvo8",
      "authorship_tag": "ABX9TyOgVZPSGJQmvMUrl6KTNn4a",
      "include_colab_link": true
    },
    "kernelspec": {
      "name": "python3",
      "display_name": "Python 3"
    },
    "language_info": {
      "name": "python"
    }
  },
  "cells": [
    {
      "cell_type": "markdown",
      "metadata": {
        "id": "view-in-github",
        "colab_type": "text"
      },
      "source": [
        "<a href=\"https://colab.research.google.com/github/JaydaBubel/IronHack_FinalProject/blob/main/Dealing_with_coordinates.ipynb\" target=\"_parent\"><img src=\"https://colab.research.google.com/assets/colab-badge.svg\" alt=\"Open In Colab\"/></a>"
      ]
    },
    {
      "cell_type": "markdown",
      "source": [
        "## **Data Cleaning**\n",
        "\n",
        "### **Dealing with Coordinates:**\n",
        "\n",
        "In order for tableau to read the geo data, it must be lat/long format. Therefore, as the data comes in the typical european format, it must first be converted in python. Some important reference points:\n",
        "\n",
        "**European Terrestrial Reference System 1989 (ETRS89)** is a geodetic reference system used in Europe. It provides a fixed set of coordinates for mapping and navigation. ETRS89 is based on the World Geodetic System 1984 (WGS84) but is tailored specifically for Europe.\n",
        "\n",
        "**World Geodetic System 1984 (WGS84)** is a global reference system used for GPS and mapping worldwide. It defines the shape of the Earth and coordinates based on the Earth's center of mass.\n",
        "\n",
        "**Universal Transverse Mercator (UTM)** is a global map projection system that divides the Earth into zones and uses a flat grid to represent locations with easting and northing values. UTM is commonly used for accurate local and regional mapping.\n",
        "\n",
        "Now, the difference from latitude and longitude (lat/long):\n",
        "\n",
        "Latitude and longitude (lat/long) are a global coordinate system that uses angles to describe locations on the Earth's surface. Latitude measures north-south position, while longitude measures east-west position. ETRS89, UTM, and WGS84 provide alternative ways to represent locations using linear units (meters) and are better suited for measuring distances and performing precise geographic calculations. They are more suitable for engineering, cartography, and navigation, while **lat/long is commonly used for general location descriptions.**"
      ],
      "metadata": {
        "id": "Puqz8jh-H9Oo"
      }
    },
    {
      "cell_type": "code",
      "source": [
        "from google.colab import drive\n",
        "drive.mount('/content/drive')"
      ],
      "metadata": {
        "colab": {
          "base_uri": "https://localhost:8080/"
        },
        "id": "svRAQ3tQslW-",
        "outputId": "8d458f36-ddd3-4961-b460-5369b2333fa7"
      },
      "execution_count": 28,
      "outputs": [
        {
          "output_type": "stream",
          "name": "stdout",
          "text": [
            "Drive already mounted at /content/drive; to attempt to forcibly remount, call drive.mount(\"/content/drive\", force_remount=True).\n"
          ]
        }
      ]
    },
    {
      "cell_type": "code",
      "source": [
        "import pyproj\n",
        "import pandas as pd\n",
        "!pip install utm"
      ],
      "metadata": {
        "colab": {
          "base_uri": "https://localhost:8080/"
        },
        "id": "w8HlH1NQzA8H",
        "outputId": "1aef1f42-4f47-4d15-81c9-98c95b2289da"
      },
      "execution_count": 29,
      "outputs": [
        {
          "output_type": "stream",
          "name": "stdout",
          "text": [
            "Requirement already satisfied: utm in /usr/local/lib/python3.10/dist-packages (0.7.0)\n"
          ]
        }
      ]
    },
    {
      "cell_type": "markdown",
      "source": [
        "I first tried with pip/utm, but had no luck. I then tried pyproj and was able to transformed the coordinates."
      ],
      "metadata": {
        "id": "dwTEt5iPJOY1"
      }
    },
    {
      "cell_type": "code",
      "execution_count": 30,
      "metadata": {
        "id": "qomDnEaKxVmp"
      },
      "outputs": [],
      "source": [
        "import pandas as pd\n",
        "from pyproj import Proj, transform\n",
        "import warnings\n",
        "# Ignore all warnings\n",
        "warnings.filterwarnings(\"ignore\")\n",
        "\n",
        "# Define the input and output file paths\n",
        "input_file = '/content/drive/MyDrive/Ironhack/Final Project/231010 Sportkataster rr.xlsx'\n",
        "output_file = '/content/drive/MyDrive/Ironhack/Final Project/Copy of 231010 Sportkataster rr.xlsx'\n",
        "\n",
        "# Load the data from the Excel file\n",
        "df = pd.read_excel(input_file)\n",
        "\n",
        "# Function to convert UTM to latitude and longitude\n",
        "def utm_to_lat_lon(row):\n",
        "    # Check if the values are already numeric (float or int)\n",
        "    if isinstance(row['X-Koordinate'], (float, int)) and isinstance(row['Y-Koordinate'], (float, int)):\n",
        "        easting = row['X-Koordinate']\n",
        "        northing = row['Y-Koordinate']\n",
        "    else:\n",
        "        # Convert comma-separated string to float\n",
        "        easting = float(str(row['X-Koordinate']).replace(',', '.'))\n",
        "        northing = float(str(row['Y-Koordinate']).replace(',', '.'))\n",
        "\n",
        "    # Define the UTM zone (in your case, Zone 33)\n",
        "    utm_zone = 33\n",
        "\n",
        "    # Define the UTM projection and WGS84 projection\n",
        "    utm = Proj(proj='utm', zone=utm_zone, ellps='WGS84')\n",
        "    wgs84 = Proj(init='epsg:4326')\n",
        "\n",
        "    # Perform the coordinate transformation\n",
        "    lon, lat = transform(utm, wgs84, easting, northing)\n",
        "\n",
        "    return pd.Series([lat, lon])\n",
        "\n",
        "# Apply the conversion function and create new 'lat' and 'long' columns\n",
        "df[['lat', 'long']] = df.apply(utm_to_lat_lon, axis=1)\n",
        "\n",
        "# Save the updated data to a new Excel file\n",
        "df.to_excel(output_file, index=False)"
      ]
    },
    {
      "cell_type": "markdown",
      "source": [
        "It worked on the first sheet of the file, as a test. Now with new file, which combines both sheets of covered/uncovered sporting facilities:"
      ],
      "metadata": {
        "id": "G93bla42JpLX"
      }
    },
    {
      "cell_type": "code",
      "source": [
        "import pandas as pd\n",
        "from pyproj import Proj, transform\n",
        "import warnings\n",
        "# Ignore all warnings\n",
        "warnings.filterwarnings(\"ignore\")\n",
        "\n",
        "# Define the input and output file paths\n",
        "input_file = '/content/drive/MyDrive/Ironhack/Final Project/14102923_Sport_Gedeckt und ungedeckt_SZ.xlsx'\n",
        "output_file = '/content/drive/MyDrive/Ironhack/Final Project/Copy of 14102923_Sport_Gedeckt und ungedeckt_SZ.xlsx'\n",
        "\n",
        "# Load the data from the Excel file\n",
        "df = pd.read_excel(input_file)\n",
        "\n",
        "# Function to convert UTM to latitude and longitude\n",
        "def utm_to_lat_lon(row):\n",
        "    # Check if the values are already numeric (float or int)\n",
        "    if isinstance(row['X-Koordinate'], (float, int)) and isinstance(row['Y-Koordinate'], (float, int)):\n",
        "        easting = row['X-Koordinate']\n",
        "        northing = row['Y-Koordinate']\n",
        "    else:\n",
        "        # Convert comma-separated string to float\n",
        "        easting = float(str(row['X-Koordinate']).replace(',', '.'))\n",
        "        northing = float(str(row['Y-Koordinate']).replace(',', '.'))\n",
        "\n",
        "    # Define the UTM zone (in your case, Zone 33)\n",
        "    utm_zone = 33\n",
        "\n",
        "    # Define the UTM projection and WGS84 projection\n",
        "    utm = Proj(proj='utm', zone=utm_zone, ellps='WGS84')\n",
        "    wgs84 = Proj(init='epsg:4326')\n",
        "\n",
        "    # Perform the coordinate transformation\n",
        "    lon, lat = transform(utm, wgs84, easting, northing)\n",
        "\n",
        "    return pd.Series([lat, lon])\n",
        "\n",
        "# Apply the conversion function and create new 'lat' and 'long' columns\n",
        "df[['lat', 'long']] = df.apply(utm_to_lat_lon, axis=1)\n",
        "\n",
        "# Save the updated data to a new Excel file\n",
        "df.to_excel(output_file, index=False)"
      ],
      "metadata": {
        "id": "Fqgd9VVes1se"
      },
      "execution_count": 31,
      "outputs": []
    }
  ]
}